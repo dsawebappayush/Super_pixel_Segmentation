{
 "cells": [
  {
   "cell_type": "code",
   "execution_count": 1,
   "metadata": {},
   "outputs": [],
   "source": [
    "import numpy as np\n",
    "import matplotlib.pyplot as plt\n",
    "import random"
   ]
  },
  {
   "cell_type": "code",
   "execution_count": 2,
   "metadata": {},
   "outputs": [],
   "source": [
    "def get_initial_centroids(X, k):\n",
    "  \n",
    "    number_of_samples = X.shape[0]\n",
    "    sample_points_ids = random.sample(range(0, number_of_samples), k)#selecting points randomly\n",
    "\n",
    "    centroids = [tuple(X[id]) for id in sample_points_ids] #assing value to randomly sampled id\n",
    "    unique_centroids = list(set(centroids)) #making it a list after sorting ti avoid repetition if few points overlapped\n",
    "\n",
    "    number_of_unique_centroids = len(unique_centroids)\n",
    "    \n",
    "    #redoing the sample if overlapped\n",
    "    \n",
    "    while number_of_unique_centroids < k:\n",
    "        new_sample_points_ids = random.sample(range(0, number_of_samples), k - number_of_unique_centroids)\n",
    "        new_centroids = [tuple(X[id]) for id in new_sample_points_ids]\n",
    "        unique_centroids = list(set(unique_centroids + new_centroids))\n",
    "\n",
    "        number_of_unique_centroids = len(unique_centroids)\n",
    "\n",
    "    return np.array(unique_centroids)"
   ]
  },
  {
   "cell_type": "code",
   "execution_count": 3,
   "metadata": {},
   "outputs": [],
   "source": [
    "def get_euclidean_distance(A_matrix, B_matrix):\n",
    "\n",
    "   \n",
    "   #using matrix product for getting euclidean_distance\n",
    "\n",
    "    A_square = np.reshape(np.sum(A_matrix * A_matrix, axis=1), (A_matrix.shape[0], 1))\n",
    "    B_square = np.reshape(np.sum(B_matrix * B_matrix, axis=1), (1, B_matrix.shape[0]))\n",
    "    AB = A_matrix @ B_matrix.T\n",
    "\n",
    "    C = -2 * AB + B_square + A_square\n",
    "\n",
    "    return np.sqrt(C)"
   ]
  },
  {
   "cell_type": "code",
   "execution_count": 4,
   "metadata": {},
   "outputs": [],
   "source": [
    "def get_clusters(X, centroids, distance_mesuring_method):\n",
    "\n",
    "    \n",
    "\n",
    "    k = centroids.shape[0]\n",
    "\n",
    "    clusters = {}\n",
    "\n",
    "    distance_matrix = distance_mesuring_method(X, centroids)\n",
    "\n",
    "    closest_cluster_ids = np.argmin(distance_matrix, axis=1)  #taking min distance wala point\n",
    " \n",
    "    for i in range(k):  #creating a list for storing assigned points to each centre\n",
    "        clusters[i] = []\n",
    "\n",
    "    for i, cluster_id in enumerate(closest_cluster_ids):\n",
    "        clusters[cluster_id].append(X[i])\n",
    "\n",
    "    return clusters"
   ]
  },
  {
   "cell_type": "code",
   "execution_count": 5,
   "metadata": {},
   "outputs": [],
   "source": [
    "def has_centroids_covered(previous_centroids, new_centroids, distance_mesuring_method, movement_threshold_delta):\n",
    "\n",
    "    distances_between_old_and_new_centroids = distance_mesuring_method(previous_centroids, new_centroids)\n",
    "    centroids_covered = np.max(distances_between_old_and_new_centroids.diagonal()) <= movement_threshold_delta\n",
    "\n",
    "    return centroids_covered"
   ]
  },
  {
   "cell_type": "code",
   "execution_count": 6,
   "metadata": {},
   "outputs": [],
   "source": [
    "def perform_k_means_algorithm(X, k, distance_mesuring_method, movement_threshold_delta=0):\n",
    "\n",
    "\n",
    "    new_centroids = get_initial_centroids(X=X, k=k)\n",
    "\n",
    "    centroids_covered = False\n",
    "\n",
    "    while not centroids_covered:\n",
    "        previous_centroids = new_centroids\n",
    "        clusters = get_clusters(X, previous_centroids, distance_mesuring_method)\n",
    "\n",
    "        new_centroids = np.array([np.mean(clusters[key], axis=0, dtype=X.dtype) for key in sorted(clusters.keys())])\n",
    "\n",
    "        centroids_covered = has_centroids_covered(previous_centroids, new_centroids, distance_mesuring_method, movement_threshold_delta)\n",
    "\n",
    "    return new_centroids"
   ]
  },
  {
   "cell_type": "code",
   "execution_count": 7,
   "metadata": {},
   "outputs": [
    {
     "ename": "FileNotFoundError",
     "evalue": "[Errno 2] No such file or directory: 'pic_raw/girls1.png'",
     "output_type": "error",
     "traceback": [
      "\u001b[1;31m---------------------------------------------------------------------------\u001b[0m",
      "\u001b[1;31mFileNotFoundError\u001b[0m                         Traceback (most recent call last)",
      "\u001b[1;32mc:\\Users\\LENOVO\\OneDrive\\Desktop\\Super_pixel\\segmenataion_scratch.ipynb Cell 7\u001b[0m line \u001b[0;36m3\n\u001b[0;32m     <a href='vscode-notebook-cell:/c%3A/Users/LENOVO/OneDrive/Desktop/Super_pixel/segmenataion_scratch.ipynb#W6sZmlsZQ%3D%3D?line=35'>36</a>\u001b[0m plt\u001b[39m.\u001b[39mfigure(figsize\u001b[39m=\u001b[39m(\u001b[39m10\u001b[39m, \u001b[39m5\u001b[39m))\n\u001b[0;32m     <a href='vscode-notebook-cell:/c%3A/Users/LENOVO/OneDrive/Desktop/Super_pixel/segmenataion_scratch.ipynb#W6sZmlsZQ%3D%3D?line=36'>37</a>\u001b[0m plt\u001b[39m.\u001b[39msubplot(\u001b[39m1\u001b[39m, \u001b[39m2\u001b[39m, \u001b[39m2\u001b[39m)\n\u001b[1;32m---> <a href='vscode-notebook-cell:/c%3A/Users/LENOVO/OneDrive/Desktop/Super_pixel/segmenataion_scratch.ipynb#W6sZmlsZQ%3D%3D?line=37'>38</a>\u001b[0m plt\u001b[39m.\u001b[39;49mimsave(\u001b[39m'\u001b[39;49m\u001b[39mpic_raw/girls\u001b[39;49m\u001b[39m{}\u001b[39;49;00m\u001b[39m.png\u001b[39;49m\u001b[39m'\u001b[39;49m\u001b[39m.\u001b[39;49mformat(i),compressed_image_2d)\n\u001b[0;32m     <a href='vscode-notebook-cell:/c%3A/Users/LENOVO/OneDrive/Desktop/Super_pixel/segmenataion_scratch.ipynb#W6sZmlsZQ%3D%3D?line=38'>39</a>\u001b[0m image_path_list\u001b[39m.\u001b[39mappend(\u001b[39m'\u001b[39m\u001b[39mpic_raw/girls\u001b[39m\u001b[39m{}\u001b[39;00m\u001b[39m.png\u001b[39m\u001b[39m'\u001b[39m\u001b[39m.\u001b[39mformat(i))\n\u001b[0;32m     <a href='vscode-notebook-cell:/c%3A/Users/LENOVO/OneDrive/Desktop/Super_pixel/segmenataion_scratch.ipynb#W6sZmlsZQ%3D%3D?line=39'>40</a>\u001b[0m plt\u001b[39m.\u001b[39mtitle(\u001b[39mf\u001b[39m\u001b[39m'\u001b[39m\u001b[39mCompressed Image (k=\u001b[39m\u001b[39m{\u001b[39;00mi\u001b[39m}\u001b[39;00m\u001b[39m)\u001b[39m\u001b[39m'\u001b[39m)\n",
      "File \u001b[1;32m~\\AppData\\Local\\Packages\\PythonSoftwareFoundation.Python.3.11_qbz5n2kfra8p0\\LocalCache\\local-packages\\Python311\\site-packages\\matplotlib\\pyplot.py:2200\u001b[0m, in \u001b[0;36mimsave\u001b[1;34m(fname, arr, **kwargs)\u001b[0m\n\u001b[0;32m   2198\u001b[0m \u001b[39m@_copy_docstring_and_deprecators\u001b[39m(matplotlib\u001b[39m.\u001b[39mimage\u001b[39m.\u001b[39mimsave)\n\u001b[0;32m   2199\u001b[0m \u001b[39mdef\u001b[39;00m \u001b[39mimsave\u001b[39m(fname, arr, \u001b[39m*\u001b[39m\u001b[39m*\u001b[39mkwargs):\n\u001b[1;32m-> 2200\u001b[0m     \u001b[39mreturn\u001b[39;00m matplotlib\u001b[39m.\u001b[39;49mimage\u001b[39m.\u001b[39;49mimsave(fname, arr, \u001b[39m*\u001b[39;49m\u001b[39m*\u001b[39;49mkwargs)\n",
      "File \u001b[1;32m~\\AppData\\Local\\Packages\\PythonSoftwareFoundation.Python.3.11_qbz5n2kfra8p0\\LocalCache\\local-packages\\Python311\\site-packages\\matplotlib\\image.py:1689\u001b[0m, in \u001b[0;36mimsave\u001b[1;34m(fname, arr, vmin, vmax, cmap, format, origin, dpi, metadata, pil_kwargs)\u001b[0m\n\u001b[0;32m   1687\u001b[0m pil_kwargs\u001b[39m.\u001b[39msetdefault(\u001b[39m\"\u001b[39m\u001b[39mformat\u001b[39m\u001b[39m\"\u001b[39m, \u001b[39mformat\u001b[39m)\n\u001b[0;32m   1688\u001b[0m pil_kwargs\u001b[39m.\u001b[39msetdefault(\u001b[39m\"\u001b[39m\u001b[39mdpi\u001b[39m\u001b[39m\"\u001b[39m, (dpi, dpi))\n\u001b[1;32m-> 1689\u001b[0m image\u001b[39m.\u001b[39;49msave(fname, \u001b[39m*\u001b[39;49m\u001b[39m*\u001b[39;49mpil_kwargs)\n",
      "File \u001b[1;32m~\\AppData\\Local\\Packages\\PythonSoftwareFoundation.Python.3.11_qbz5n2kfra8p0\\LocalCache\\local-packages\\Python311\\site-packages\\PIL\\Image.py:2410\u001b[0m, in \u001b[0;36mImage.save\u001b[1;34m(self, fp, format, **params)\u001b[0m\n\u001b[0;32m   2408\u001b[0m         fp \u001b[39m=\u001b[39m builtins\u001b[39m.\u001b[39mopen(filename, \u001b[39m\"\u001b[39m\u001b[39mr+b\u001b[39m\u001b[39m\"\u001b[39m)\n\u001b[0;32m   2409\u001b[0m     \u001b[39melse\u001b[39;00m:\n\u001b[1;32m-> 2410\u001b[0m         fp \u001b[39m=\u001b[39m builtins\u001b[39m.\u001b[39;49mopen(filename, \u001b[39m\"\u001b[39;49m\u001b[39mw+b\u001b[39;49m\u001b[39m\"\u001b[39;49m)\n\u001b[0;32m   2412\u001b[0m \u001b[39mtry\u001b[39;00m:\n\u001b[0;32m   2413\u001b[0m     save_handler(\u001b[39mself\u001b[39m, fp, filename)\n",
      "\u001b[1;31mFileNotFoundError\u001b[0m: [Errno 2] No such file or directory: 'pic_raw/girls1.png'"
     ]
    },
    {
     "data": {
      "image/png": "[encoded data removed]",
      "text/plain": [
       "<Figure size 1000x500 with 1 Axes>"
      ]
     },
     "metadata": {},
     "output_type": "display_data"
    }
   ],
   "source": [
    "import numpy\n",
    "from PIL import Image\n",
    "from sklearn.cluster import KMeans\n",
    "import numpy as  np\n",
    "import matplotlib.pyplot as plt\n",
    "\n",
    "def get_image(image_path):\n",
    "    image = Image.open(image_path, \"r\")\n",
    "    width, height = image.size\n",
    "    pixel_values = list(image.getdata())\n",
    "    if image.mode == \"RGB\":\n",
    "        channels = 3\n",
    "    elif image.mode == \"L\":\n",
    "        channels = 1\n",
    "    else:\n",
    "        print(\"Unknown mode: %s\" % image.mode)\n",
    "        return None\n",
    "    pixel_values = numpy.array(pixel_values).reshape((width, height, channels))\n",
    "    return pixel_values\n",
    "image_path_list=[]\n",
    "for i in range(1,20):\n",
    "    image= get_image(\"girl.png\")\n",
    "    image1=image\n",
    "    h, w, d = image.shape\n",
    "\n",
    "    X = np.reshape(image, (h * w, d))\n",
    "    X = np.array(X, dtype=np.int32)\n",
    "\n",
    "    centroids = perform_k_means_algorithm(X, k=i, distance_mesuring_method=get_euclidean_distance)\n",
    "    distance_matrix = get_euclidean_distance(X, centroids)\n",
    "    closest_cluster_ids = np.argmin(distance_matrix, axis=1)\n",
    "\n",
    "    X_reconstructed = centroids[closest_cluster_ids]\n",
    "    X_reconstructed = np.array(X_reconstructed, dtype=np.uint8)\n",
    "    compressed_image_2d = np.reshape(X_reconstructed, (h, w, d))\n",
    "    plt.figure(figsize=(10, 5))\n",
    "    plt.subplot(1, 2, 2)\n",
    "    plt.imsave('pic_raw/girls{}.png'.format(i),compressed_image_2d)\n",
    "    image_path_list.append('pic_raw/girls{}.png'.format(i))\n",
    "    plt.title(f'Compressed Image (k={i})')\n",
    "    plt.imshow(compressed_image_2d)\n",
    "    plt.axis('off')\n",
    "    plt.show()"
   ]
  },
  {
   "cell_type": "code",
   "execution_count": null,
   "metadata": {},
   "outputs": [],
   "source": [
    "from PIL import Image\n",
    "image_list = [Image.open(file) for file in image_path_list]\n",
    "# Save the first image as a GIF file\n",
    "image_list[0].save(\n",
    "            'animation1.gif',\n",
    "            save_all=True,\n",
    "            append_images=image_list[1:], # append rest of the images\n",
    "            duration=1000, # in milliseconds\n",
    "            loop=0)"
   ]
  }
 ],
 "metadata": {
  "kernelspec": {
   "display_name": "Python 3",
   "language": "python",
   "name": "python3"
  },
  "language_info": {
   "codemirror_mode": {
    "name": "ipython",
    "version": 3
   },
   "file_extension": ".py",
   "mimetype": "text/x-python",
   "name": "python",
   "nbconvert_exporter": "python",
   "pygments_lexer": "ipython3",
   "version": "3.11.5"
  },
  "orig_nbformat": 4
 },
 "nbformat": 4,
 "nbformat_minor": 2
}
